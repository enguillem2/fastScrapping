{
 "cells": [
  {
   "cell_type": "code",
   "execution_count": 5,
   "metadata": {},
   "outputs": [
    {
     "name": "stdout",
     "output_type": "stream",
     "text": [
      "200\n",
      "Razer Kaira for PS5 - PS4 - PC - Movil  - Auriculares inalámbricos. PC GAMING: GAME.es\n",
      "Razer Kaira for PS5 - PS4 - PC - Movil  - Auriculares inalámbricos\n",
      "enter: 69.99€\n"
     ]
    }
   ],
   "source": [
    "import requests\n",
    "from bs4 import BeautifulSoup\n",
    "\n",
    "url=\"https://www.game.es/ACCESORIOS/AURICULARES/PC-GAMING/RAZER-KAIRA-FOR-PS5-PS4-PC-MOVIL-AURICULARES-INALAMBRICOS/V1FFP2\"\n",
    "headers={\"user-agent\":\"Mozilla/5.0 (X11; Linux x86_64) AppleWebKit/537.36 (KHTML, like Gecko) Chrome/119.0.0.0 Safari/537.36\"}\n",
    "\n",
    "res = requests.get(url,headers=headers)\n",
    "print(res.status_code)\n",
    "\n",
    "soup = BeautifulSoup(res.text,\"html.parser\")\n",
    "print(soup.title.text)\n",
    "product_title=soup.find(\"h2\",class_=\"product-title\").text.strip()\n",
    "print(product_title)\n",
    "\n",
    "product_price=soup.find(\"div\",class_=\"buy--price\")\n",
    "product_price_int=product_price.find(\"span\",class_=\"int\").text.strip()\n",
    "product_price_dec=product_price.find(\"span\",class_=\"decimal\").text.strip().replace(\"'\",\".\")\n",
    "product_price_currency=product_price.find(\"span\",class_=\"currency\").text.strip()\n",
    "price=float(product_price_int+product_price_dec)\n",
    "print(f\"enter: {price}{product_price_currency}\")"
   ]
  },
  {
   "cell_type": "markdown",
   "metadata": {},
   "source": [
    "## test de variables    \n",
    "\n",
    "### hola\n"
   ]
  },
  {
   "cell_type": "code",
   "execution_count": 7,
   "metadata": {},
   "outputs": [
    {
     "data": {
      "text/plain": [
       "87.4875"
      ]
     },
     "execution_count": 7,
     "metadata": {},
     "output_type": "execute_result"
    }
   ],
   "source": [
    "price*1.25"
   ]
  },
  {
   "cell_type": "code",
   "execution_count": 9,
   "metadata": {},
   "outputs": [
    {
     "name": "stdout",
     "output_type": "stream",
     "text": [
      "[<a class=\"btn btn-secondary-outline btn-sm sharp active\" href=\"/ACCESORIOS/AURICULARES/PC-GAMING/RAZER-KAIRA-FOR-PS5-PS4-PC-MOVIL-AURICULARES-INALAMBRICOS/V1FFP2\">\n",
      "<span class=\"cm-txt\">PC</span>\n",
      "</a>, <a class=\"btn btn-secondary-outline btn-sm sharp active\" href=\"/ACCESORIOS/AURICULARES/PC-GAMING/RAZER-KAIRA-FOR-PS5-PS4-PC-MOVIL-AURICULARES-INALAMBRICOS/V1FFP2\">\n",
      "<span class=\"cm-txt\">Playstation 4</span>\n",
      "</a>, <a class=\"btn btn-secondary-outline btn-sm sharp active\" href=\"/ACCESORIOS/AURICULARES/PC-GAMING/RAZER-KAIRA-FOR-PS5-PS4-PC-MOVIL-AURICULARES-INALAMBRICOS/V1FFP2\">\n",
      "<span class=\"cm-txt\">Playstation 5</span>\n",
      "</a>]\n",
      "PC\n",
      "Playstation 4\n",
      "Playstation 5\n"
     ]
    }
   ],
   "source": [
    "plats = soup.find(\"dd\",class_=\"dd\").find_all(\"a\")\n",
    "print(plats)\n",
    "for p in plats:\n",
    "    span=p.find(\"span\").text\n",
    "    print(span)"
   ]
  },
  {
   "cell_type": "code",
   "execution_count": 20,
   "metadata": {},
   "outputs": [
    {
     "ename": "KeyError",
     "evalue": "'class'",
     "output_type": "error",
     "traceback": [
      "\u001b[0;31m---------------------------------------------------------------------------\u001b[0m",
      "\u001b[0;31mKeyError\u001b[0m                                  Traceback (most recent call last)",
      "\u001b[1;32m/home/guillem/code/fastScrapping/testScrapping.ipynb Cell 5\u001b[0m line \u001b[0;36m1\n\u001b[0;32m----> <a href='vscode-notebook-cell:/home/guillem/code/fastScrapping/testScrapping.ipynb#W4sZmlsZQ%3D%3D?line=0'>1</a>\u001b[0m points\u001b[39m=\u001b[39msoup\u001b[39m.\u001b[39;49mfind(\u001b[39mid\u001b[39;49m\u001b[39m=\u001b[39;49m\u001b[39m\"\u001b[39;49m\u001b[39mproduct-cover\u001b[39;49m\u001b[39m\"\u001b[39;49m)\u001b[39m.\u001b[39;49mattrs[\u001b[39m\"\u001b[39;49m\u001b[39mclass\u001b[39;49m\u001b[39m\"\u001b[39;49m][\u001b[39m-\u001b[39m\u001b[39m1\u001b[39m]\u001b[39m.\u001b[39msplit(\u001b[39m\"\u001b[39m\u001b[39m-\u001b[39m\u001b[39m\"\u001b[39m)[\u001b[39m1\u001b[39m]\n\u001b[1;32m      <a href='vscode-notebook-cell:/home/guillem/code/fastScrapping/testScrapping.ipynb#W4sZmlsZQ%3D%3D?line=2'>3</a>\u001b[0m \u001b[39mprint\u001b[39m(points)\n",
      "\u001b[0;31mKeyError\u001b[0m: 'class'"
     ]
    }
   ],
   "source": [
    "points=soup.find(id=\"product-cover\")\n",
    "\n",
    "print(points)"
   ]
  },
  {
   "cell_type": "markdown",
   "metadata": {},
   "source": [
    "## image"
   ]
  },
  {
   "cell_type": "code",
   "execution_count": 19,
   "metadata": {},
   "outputs": [
    {
     "data": {
      "text/plain": [
       "'https://media.game.es/COVERV2/3D_L/V1F/V1FFP2.png'"
      ]
     },
     "execution_count": 19,
     "metadata": {},
     "output_type": "execute_result"
    }
   ],
   "source": [
    "image=soup.find(\"figure\",class_=\"product-thumbnail\").find(\"img\").attrs[\"src\"]\n",
    "image"
   ]
  }
 ],
 "metadata": {
  "kernelspec": {
   "display_name": ".venv",
   "language": "python",
   "name": "python3"
  },
  "language_info": {
   "codemirror_mode": {
    "name": "ipython",
    "version": 3
   },
   "file_extension": ".py",
   "mimetype": "text/x-python",
   "name": "python",
   "nbconvert_exporter": "python",
   "pygments_lexer": "ipython3",
   "version": "3.11.4"
  }
 },
 "nbformat": 4,
 "nbformat_minor": 2
}
