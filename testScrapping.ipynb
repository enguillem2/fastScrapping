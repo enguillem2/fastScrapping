{
 "cells": [
  {
   "cell_type": "code",
   "execution_count": 5,
   "metadata": {},
   "outputs": [
    {
     "name": "stdout",
     "output_type": "stream",
     "text": [
      "200\n",
      "Razer Kaira for PS5 - PS4 - PC - Movil  - Auriculares inalámbricos. PC GAMING: GAME.es\n",
      "Razer Kaira for PS5 - PS4 - PC - Movil  - Auriculares inalámbricos\n",
      "enter: 69.99€\n"
     ]
    }
   ],
   "source": [
    "import requests\n",
    "from bs4 import BeautifulSoup\n",
    "\n",
    "url=\"https://www.game.es/ACCESORIOS/AURICULARES/PC-GAMING/RAZER-KAIRA-FOR-PS5-PS4-PC-MOVIL-AURICULARES-INALAMBRICOS/V1FFP2\"\n",
    "headers={\"user-agent\":\"Mozilla/5.0 (X11; Linux x86_64) AppleWebKit/537.36 (KHTML, like Gecko) Chrome/119.0.0.0 Safari/537.36\"}\n",
    "\n",
    "res = requests.get(url,headers=headers)\n",
    "print(res.status_code)\n",
    "\n",
    "soup = BeautifulSoup(res.text,\"html.parser\")\n",
    "print(soup.title.text)\n",
    "product_title=soup.find(\"h2\",class_=\"product-title\").text.strip()\n",
    "print(product_title)\n",
    "\n",
    "product_price=soup.find(\"div\",class_=\"buy--price\")\n",
    "product_price_int=product_price.find(\"span\",class_=\"int\").text.strip()\n",
    "product_price_dec=product_price.find(\"span\",class_=\"decimal\").text.strip().replace(\"'\",\".\")\n",
    "product_price_currency=product_price.find(\"span\",class_=\"currency\").text.strip()\n",
    "price=float(product_price_int+product_price_dec)\n",
    "print(f\"enter: {price}{product_price_currency}\")"
   ]
  },
  {
   "cell_type": "markdown",
   "metadata": {},
   "source": [
    "## test de variables    \n",
    "\n",
    "### hola\n"
   ]
  },
  {
   "cell_type": "code",
   "execution_count": 7,
   "metadata": {},
   "outputs": [
    {
     "data": {
      "text/plain": [
       "87.4875"
      ]
     },
     "execution_count": 7,
     "metadata": {},
     "output_type": "execute_result"
    }
   ],
   "source": [
    "price*1.25"
   ]
  },
  {
   "cell_type": "code",
   "execution_count": null,
   "metadata": {},
   "outputs": [],
   "source": []
  }
 ],
 "metadata": {
  "kernelspec": {
   "display_name": ".venv",
   "language": "python",
   "name": "python3"
  },
  "language_info": {
   "codemirror_mode": {
    "name": "ipython",
    "version": 3
   },
   "file_extension": ".py",
   "mimetype": "text/x-python",
   "name": "python",
   "nbconvert_exporter": "python",
   "pygments_lexer": "ipython3",
   "version": "3.11.4"
  }
 },
 "nbformat": 4,
 "nbformat_minor": 2
}
